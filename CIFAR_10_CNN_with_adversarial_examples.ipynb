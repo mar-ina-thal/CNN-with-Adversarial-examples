{
  "cells": [
    {
      "cell_type": "markdown",
      "source": [
        "# Machine Learning Assignment 2\n",
        "Vasiliki Strouthopoulou 7115152200014\n",
        "\n",
        "Panagiotis Xiropotamos 7115152200038\n",
        "\n",
        "Marina Thalassini Filippidou 7115152200022"
      ],
      "metadata": {
        "id": "2z89-az_XGeX"
      }
    },
    {
      "cell_type": "markdown",
      "source": [
        "# Exercise 2C"
      ],
      "metadata": {
        "id": "3SErEn9TYQbm"
      }
    },
    {
      "cell_type": "code",
      "source": [
        "# Display the version\n",
        "print(tf.__version__)\n",
        "\n",
        "\n",
        "import numpy as np\n",
        "import pandas as pd\n",
        "\n",
        "import numpy as np\n",
        "import tensorflow as tf\n",
        "from tensorflow import keras\n",
        "from tensorflow.keras import layers\n",
        "\n",
        "\n",
        "from keras.optimizers import Adam\n",
        "from keras.models import Sequential, Model\n",
        "from keras.layers import Dense, Conv2D, Flatten, Input, BatchNormalization, MaxPooling2D, Dropout\n",
        "\n",
        "\n",
        "import seaborn as sns\n",
        "\n",
        "import matplotlib.pyplot as plt\n",
        "from sklearn.metrics import classification_report,confusion_matrix"
      ],
      "metadata": {
        "colab": {
          "base_uri": "https://localhost:8080/"
        },
        "id": "lskEwD2Y9l54",
        "outputId": "4c8ca7e7-aa50-4cfa-dfa8-4455929cf4dc"
      },
      "execution_count": null,
      "outputs": [
        {
          "output_type": "stream",
          "name": "stdout",
          "text": [
            "2.11.0\n"
          ]
        }
      ]
    },
    {
      "cell_type": "markdown",
      "metadata": {
        "id": "nGZiJpt82Ne_"
      },
      "source": [
        "## Load the CIFAR-10 Dataset"
      ]
    },
    {
      "cell_type": "code",
      "execution_count": null,
      "metadata": {
        "colab": {
          "base_uri": "https://localhost:8080/"
        },
        "id": "xzPYlqEY2OJt",
        "outputId": "a98f628d-62bc-473a-d6fc-a66f6b165dd3"
      },
      "outputs": [
        {
          "output_type": "stream",
          "name": "stdout",
          "text": [
            "(50000, 32, 32, 3) (50000, 1) (10000, 32, 32, 3) (10000, 1)\n"
          ]
        }
      ],
      "source": [
        "# Load in the data\n",
        "cifar10 = tf.keras.datasets.cifar10\n",
        "\n",
        "# Distribute it to train and test set\n",
        "(x_train, y_train), (x_test, y_test) = cifar10.load_data()\n",
        "print(x_train.shape, y_train.shape, x_test.shape, y_test.shape)\n"
      ]
    },
    {
      "cell_type": "markdown",
      "metadata": {
        "id": "PuiuyY0F2mNk"
      },
      "source": [
        "We observe that we have 50K train images and 10K test images with dimensions of 32 x 32 x 3 pixels."
      ]
    },
    {
      "cell_type": "markdown",
      "metadata": {
        "id": "ZaQvPuz127KB"
      },
      "source": [
        "we check how an image is represented"
      ]
    },
    {
      "cell_type": "code",
      "execution_count": null,
      "metadata": {
        "colab": {
          "base_uri": "https://localhost:8080/",
          "height": 1000
        },
        "id": "kQZo9b4R2f5G",
        "outputId": "fc98bbda-4e6a-4db8-e32c-60b6cd2ca14b"
      },
      "outputs": [
        {
          "output_type": "execute_result",
          "data": {
            "text/plain": [
              "     0    1    2    3    4    5    6    7    8    9   ...   22   23   24   25  \\\n",
              "0    59   43   50   68   98  119  139  145  149  149  ...  136  139  152  163   \n",
              "1    16    0   18   51   88  120  128  127  126  116  ...  131  124  121  131   \n",
              "2    25   16   49   83  110  129  130  121  113  112  ...  139  127  126  127   \n",
              "3    33   38   87  106  115  117  114  105  107  121  ...  136  131  124  130   \n",
              "4    50   59  102  127  124  121  120  114  107  125  ...  131  141  135  127   \n",
              "5    71   84  110  129  136  131  129  119  108  122  ...   88  118  140  136   \n",
              "6    97  111  123  130  136  132  122  121  127  138  ...  136  122  139  151   \n",
              "7   115  119  130  140  133  127  138  137  131  133  ...  123  112  135  151   \n",
              "8   137  128  132  128  119  123  128  130  121  137  ...   74   76  107  135   \n",
              "9   154  154  156  140  123  125  126  127  133  132  ...   86   75  101  136   \n",
              "10  154  155  156  147  133  137  139  134  141  121  ...  142  102  108  135   \n",
              "11  145  146  146  135  127  129  117  103  130  120  ...  189  125  108  140   \n",
              "12  142  141  140  144  147  121   84   88  109  101  ...  161  130  124  131   \n",
              "13  158  154  142  143  132   90   72   81   84  107  ...  189  174  161  139   \n",
              "14  145  149  147  147  136   80   89  105   96  129  ...  219  224  215  156   \n",
              "15  148  146  145  147  133   63   66   88  113  182  ...  231  250  241  158   \n",
              "16  149  143  144  151  132   64   84  112  163  223  ...  208  250  227  163   \n",
              "17  147  134  140  148  135  100  108  144  210  248  ...  179  231  223  162   \n",
              "18  152  117  114  123  126  122   93  179  238  248  ...  212  236  236  166   \n",
              "19  145  127  128  133  132  135  171  237  252  229  ...  240  240  222  156   \n",
              "20  143  127  129  129  130  140  219  244  210  193  ...  202  190  198  152   \n",
              "21  143  125  131  128  123  153  148  166  188  182  ...  148  141  141  138   \n",
              "22  141  131  139  139  138  151  128  136  175  173  ...  145  143  129  123   \n",
              "23  143  139  138  149  160  150  147  151  169  167  ...  107   91   84  105   \n",
              "24  149  133  136  147  150  153  157  162  175  190  ...   77   79   93  126   \n",
              "25  172  144  135  136  135  139  153  163  166  184  ...  135  143  139  136   \n",
              "26  202  187  151  128  122  134  142  150  153  148  ...  161  154  154  143   \n",
              "27  216  193  168  151  131  126  138  144  142  137  ...  147  148  149  149   \n",
              "28  220  201  186  172  156  142  142  153  150  139  ...  126  141  145  147   \n",
              "29  208  201  198  191  183  171  159  147  135  130  ...  120  128  142  135   \n",
              "30  180  173  186  194  198  201  189  173  156  139  ...  117  112  122  104   \n",
              "31  177  168  179  188  202  218  218  207  191  175  ...  112  119  130  120   \n",
              "\n",
              "     26   27   28   29   30   31  \n",
              "0   168  159  158  158  152  148  \n",
              "1   132  133  133  123  119  122  \n",
              "2   130  142  130  118  120  109  \n",
              "3   132  135  130  125  121   94  \n",
              "4   121  119  103   87   75   67  \n",
              "5   120  107   88   67   35   32  \n",
              "6   129  108   95   96   89   66  \n",
              "7   137  114  105  101  126  102  \n",
              "8   135  129  127  119  125  134  \n",
              "9   136  134  133  132  128  133  \n",
              "10  131  133  138  136  130  134  \n",
              "11  137  132  136  133  132  133  \n",
              "12  130  131  134  135  136  133  \n",
              "13  134  126  131  142  136  138  \n",
              "14  128  129  131  133  128  130  \n",
              "15  125  126  124  125  126  124  \n",
              "16  145  143  140  136  121  114  \n",
              "17  146  140  139  145  142  128  \n",
              "18  136  134  130  127  137  151  \n",
              "19  119  120  112  100   99  140  \n",
              "20  100  109  119  121  108  136  \n",
              "21  111  111  121  129  138  179  \n",
              "22  124  113  108  113  148  199  \n",
              "23  132  118   96  102  159  190  \n",
              "24  133  119  113  140  187  154  \n",
              "25  127  121  135  189  211  136  \n",
              "26  130  132  171  215  186  117  \n",
              "27  137  143  203  206  124   71  \n",
              "28  127  114  186  173   56   33  \n",
              "29   90   50  137  160   56   53  \n",
              "30   58   34  131  184   97   83  \n",
              "31   92  103  170  216  151  123  \n",
              "\n",
              "[32 rows x 32 columns]"
            ],
            "text/html": [
              "\n",
              "  <div id=\"df-5e91d218-f6cf-4af1-999d-a37484457a07\">\n",
              "    <div class=\"colab-df-container\">\n",
              "      <div>\n",
              "<style scoped>\n",
              "    .dataframe tbody tr th:only-of-type {\n",
              "        vertical-align: middle;\n",
              "    }\n",
              "\n",
              "    .dataframe tbody tr th {\n",
              "        vertical-align: top;\n",
              "    }\n",
              "\n",
              "    .dataframe thead th {\n",
              "        text-align: right;\n",
              "    }\n",
              "</style>\n",
              "<table border=\"1\" class=\"dataframe\">\n",
              "  <thead>\n",
              "    <tr style=\"text-align: right;\">\n",
              "      <th></th>\n",
              "      <th>0</th>\n",
              "      <th>1</th>\n",
              "      <th>2</th>\n",
              "      <th>3</th>\n",
              "      <th>4</th>\n",
              "      <th>5</th>\n",
              "      <th>6</th>\n",
              "      <th>7</th>\n",
              "      <th>8</th>\n",
              "      <th>9</th>\n",
              "      <th>...</th>\n",
              "      <th>22</th>\n",
              "      <th>23</th>\n",
              "      <th>24</th>\n",
              "      <th>25</th>\n",
              "      <th>26</th>\n",
              "      <th>27</th>\n",
              "      <th>28</th>\n",
              "      <th>29</th>\n",
              "      <th>30</th>\n",
              "      <th>31</th>\n",
              "    </tr>\n",
              "  </thead>\n",
              "  <tbody>\n",
              "    <tr>\n",
              "      <th>0</th>\n",
              "      <td>59</td>\n",
              "      <td>43</td>\n",
              "      <td>50</td>\n",
              "      <td>68</td>\n",
              "      <td>98</td>\n",
              "      <td>119</td>\n",
              "      <td>139</td>\n",
              "      <td>145</td>\n",
              "      <td>149</td>\n",
              "      <td>149</td>\n",
              "      <td>...</td>\n",
              "      <td>136</td>\n",
              "      <td>139</td>\n",
              "      <td>152</td>\n",
              "      <td>163</td>\n",
              "      <td>168</td>\n",
              "      <td>159</td>\n",
              "      <td>158</td>\n",
              "      <td>158</td>\n",
              "      <td>152</td>\n",
              "      <td>148</td>\n",
              "    </tr>\n",
              "    <tr>\n",
              "      <th>1</th>\n",
              "      <td>16</td>\n",
              "      <td>0</td>\n",
              "      <td>18</td>\n",
              "      <td>51</td>\n",
              "      <td>88</td>\n",
              "      <td>120</td>\n",
              "      <td>128</td>\n",
              "      <td>127</td>\n",
              "      <td>126</td>\n",
              "      <td>116</td>\n",
              "      <td>...</td>\n",
              "      <td>131</td>\n",
              "      <td>124</td>\n",
              "      <td>121</td>\n",
              "      <td>131</td>\n",
              "      <td>132</td>\n",
              "      <td>133</td>\n",
              "      <td>133</td>\n",
              "      <td>123</td>\n",
              "      <td>119</td>\n",
              "      <td>122</td>\n",
              "    </tr>\n",
              "    <tr>\n",
              "      <th>2</th>\n",
              "      <td>25</td>\n",
              "      <td>16</td>\n",
              "      <td>49</td>\n",
              "      <td>83</td>\n",
              "      <td>110</td>\n",
              "      <td>129</td>\n",
              "      <td>130</td>\n",
              "      <td>121</td>\n",
              "      <td>113</td>\n",
              "      <td>112</td>\n",
              "      <td>...</td>\n",
              "      <td>139</td>\n",
              "      <td>127</td>\n",
              "      <td>126</td>\n",
              "      <td>127</td>\n",
              "      <td>130</td>\n",
              "      <td>142</td>\n",
              "      <td>130</td>\n",
              "      <td>118</td>\n",
              "      <td>120</td>\n",
              "      <td>109</td>\n",
              "    </tr>\n",
              "    <tr>\n",
              "      <th>3</th>\n",
              "      <td>33</td>\n",
              "      <td>38</td>\n",
              "      <td>87</td>\n",
              "      <td>106</td>\n",
              "      <td>115</td>\n",
              "      <td>117</td>\n",
              "      <td>114</td>\n",
              "      <td>105</td>\n",
              "      <td>107</td>\n",
              "      <td>121</td>\n",
              "      <td>...</td>\n",
              "      <td>136</td>\n",
              "      <td>131</td>\n",
              "      <td>124</td>\n",
              "      <td>130</td>\n",
              "      <td>132</td>\n",
              "      <td>135</td>\n",
              "      <td>130</td>\n",
              "      <td>125</td>\n",
              "      <td>121</td>\n",
              "      <td>94</td>\n",
              "    </tr>\n",
              "    <tr>\n",
              "      <th>4</th>\n",
              "      <td>50</td>\n",
              "      <td>59</td>\n",
              "      <td>102</td>\n",
              "      <td>127</td>\n",
              "      <td>124</td>\n",
              "      <td>121</td>\n",
              "      <td>120</td>\n",
              "      <td>114</td>\n",
              "      <td>107</td>\n",
              "      <td>125</td>\n",
              "      <td>...</td>\n",
              "      <td>131</td>\n",
              "      <td>141</td>\n",
              "      <td>135</td>\n",
              "      <td>127</td>\n",
              "      <td>121</td>\n",
              "      <td>119</td>\n",
              "      <td>103</td>\n",
              "      <td>87</td>\n",
              "      <td>75</td>\n",
              "      <td>67</td>\n",
              "    </tr>\n",
              "    <tr>\n",
              "      <th>5</th>\n",
              "      <td>71</td>\n",
              "      <td>84</td>\n",
              "      <td>110</td>\n",
              "      <td>129</td>\n",
              "      <td>136</td>\n",
              "      <td>131</td>\n",
              "      <td>129</td>\n",
              "      <td>119</td>\n",
              "      <td>108</td>\n",
              "      <td>122</td>\n",
              "      <td>...</td>\n",
              "      <td>88</td>\n",
              "      <td>118</td>\n",
              "      <td>140</td>\n",
              "      <td>136</td>\n",
              "      <td>120</td>\n",
              "      <td>107</td>\n",
              "      <td>88</td>\n",
              "      <td>67</td>\n",
              "      <td>35</td>\n",
              "      <td>32</td>\n",
              "    </tr>\n",
              "    <tr>\n",
              "      <th>6</th>\n",
              "      <td>97</td>\n",
              "      <td>111</td>\n",
              "      <td>123</td>\n",
              "      <td>130</td>\n",
              "      <td>136</td>\n",
              "      <td>132</td>\n",
              "      <td>122</td>\n",
              "      <td>121</td>\n",
              "      <td>127</td>\n",
              "      <td>138</td>\n",
              "      <td>...</td>\n",
              "      <td>136</td>\n",
              "      <td>122</td>\n",
              "      <td>139</td>\n",
              "      <td>151</td>\n",
              "      <td>129</td>\n",
              "      <td>108</td>\n",
              "      <td>95</td>\n",
              "      <td>96</td>\n",
              "      <td>89</td>\n",
              "      <td>66</td>\n",
              "    </tr>\n",
              "    <tr>\n",
              "      <th>7</th>\n",
              "      <td>115</td>\n",
              "      <td>119</td>\n",
              "      <td>130</td>\n",
              "      <td>140</td>\n",
              "      <td>133</td>\n",
              "      <td>127</td>\n",
              "      <td>138</td>\n",
              "      <td>137</td>\n",
              "      <td>131</td>\n",
              "      <td>133</td>\n",
              "      <td>...</td>\n",
              "      <td>123</td>\n",
              "      <td>112</td>\n",
              "      <td>135</td>\n",
              "      <td>151</td>\n",
              "      <td>137</td>\n",
              "      <td>114</td>\n",
              "      <td>105</td>\n",
              "      <td>101</td>\n",
              "      <td>126</td>\n",
              "      <td>102</td>\n",
              "    </tr>\n",
              "    <tr>\n",
              "      <th>8</th>\n",
              "      <td>137</td>\n",
              "      <td>128</td>\n",
              "      <td>132</td>\n",
              "      <td>128</td>\n",
              "      <td>119</td>\n",
              "      <td>123</td>\n",
              "      <td>128</td>\n",
              "      <td>130</td>\n",
              "      <td>121</td>\n",
              "      <td>137</td>\n",
              "      <td>...</td>\n",
              "      <td>74</td>\n",
              "      <td>76</td>\n",
              "      <td>107</td>\n",
              "      <td>135</td>\n",
              "      <td>135</td>\n",
              "      <td>129</td>\n",
              "      <td>127</td>\n",
              "      <td>119</td>\n",
              "      <td>125</td>\n",
              "      <td>134</td>\n",
              "    </tr>\n",
              "    <tr>\n",
              "      <th>9</th>\n",
              "      <td>154</td>\n",
              "      <td>154</td>\n",
              "      <td>156</td>\n",
              "      <td>140</td>\n",
              "      <td>123</td>\n",
              "      <td>125</td>\n",
              "      <td>126</td>\n",
              "      <td>127</td>\n",
              "      <td>133</td>\n",
              "      <td>132</td>\n",
              "      <td>...</td>\n",
              "      <td>86</td>\n",
              "      <td>75</td>\n",
              "      <td>101</td>\n",
              "      <td>136</td>\n",
              "      <td>136</td>\n",
              "      <td>134</td>\n",
              "      <td>133</td>\n",
              "      <td>132</td>\n",
              "      <td>128</td>\n",
              "      <td>133</td>\n",
              "    </tr>\n",
              "    <tr>\n",
              "      <th>10</th>\n",
              "      <td>154</td>\n",
              "      <td>155</td>\n",
              "      <td>156</td>\n",
              "      <td>147</td>\n",
              "      <td>133</td>\n",
              "      <td>137</td>\n",
              "      <td>139</td>\n",
              "      <td>134</td>\n",
              "      <td>141</td>\n",
              "      <td>121</td>\n",
              "      <td>...</td>\n",
              "      <td>142</td>\n",
              "      <td>102</td>\n",
              "      <td>108</td>\n",
              "      <td>135</td>\n",
              "      <td>131</td>\n",
              "      <td>133</td>\n",
              "      <td>138</td>\n",
              "      <td>136</td>\n",
              "      <td>130</td>\n",
              "      <td>134</td>\n",
              "    </tr>\n",
              "    <tr>\n",
              "      <th>11</th>\n",
              "      <td>145</td>\n",
              "      <td>146</td>\n",
              "      <td>146</td>\n",
              "      <td>135</td>\n",
              "      <td>127</td>\n",
              "      <td>129</td>\n",
              "      <td>117</td>\n",
              "      <td>103</td>\n",
              "      <td>130</td>\n",
              "      <td>120</td>\n",
              "      <td>...</td>\n",
              "      <td>189</td>\n",
              "      <td>125</td>\n",
              "      <td>108</td>\n",
              "      <td>140</td>\n",
              "      <td>137</td>\n",
              "      <td>132</td>\n",
              "      <td>136</td>\n",
              "      <td>133</td>\n",
              "      <td>132</td>\n",
              "      <td>133</td>\n",
              "    </tr>\n",
              "    <tr>\n",
              "      <th>12</th>\n",
              "      <td>142</td>\n",
              "      <td>141</td>\n",
              "      <td>140</td>\n",
              "      <td>144</td>\n",
              "      <td>147</td>\n",
              "      <td>121</td>\n",
              "      <td>84</td>\n",
              "      <td>88</td>\n",
              "      <td>109</td>\n",
              "      <td>101</td>\n",
              "      <td>...</td>\n",
              "      <td>161</td>\n",
              "      <td>130</td>\n",
              "      <td>124</td>\n",
              "      <td>131</td>\n",
              "      <td>130</td>\n",
              "      <td>131</td>\n",
              "      <td>134</td>\n",
              "      <td>135</td>\n",
              "      <td>136</td>\n",
              "      <td>133</td>\n",
              "    </tr>\n",
              "    <tr>\n",
              "      <th>13</th>\n",
              "      <td>158</td>\n",
              "      <td>154</td>\n",
              "      <td>142</td>\n",
              "      <td>143</td>\n",
              "      <td>132</td>\n",
              "      <td>90</td>\n",
              "      <td>72</td>\n",
              "      <td>81</td>\n",
              "      <td>84</td>\n",
              "      <td>107</td>\n",
              "      <td>...</td>\n",
              "      <td>189</td>\n",
              "      <td>174</td>\n",
              "      <td>161</td>\n",
              "      <td>139</td>\n",
              "      <td>134</td>\n",
              "      <td>126</td>\n",
              "      <td>131</td>\n",
              "      <td>142</td>\n",
              "      <td>136</td>\n",
              "      <td>138</td>\n",
              "    </tr>\n",
              "    <tr>\n",
              "      <th>14</th>\n",
              "      <td>145</td>\n",
              "      <td>149</td>\n",
              "      <td>147</td>\n",
              "      <td>147</td>\n",
              "      <td>136</td>\n",
              "      <td>80</td>\n",
              "      <td>89</td>\n",
              "      <td>105</td>\n",
              "      <td>96</td>\n",
              "      <td>129</td>\n",
              "      <td>...</td>\n",
              "      <td>219</td>\n",
              "      <td>224</td>\n",
              "      <td>215</td>\n",
              "      <td>156</td>\n",
              "      <td>128</td>\n",
              "      <td>129</td>\n",
              "      <td>131</td>\n",
              "      <td>133</td>\n",
              "      <td>128</td>\n",
              "      <td>130</td>\n",
              "    </tr>\n",
              "    <tr>\n",
              "      <th>15</th>\n",
              "      <td>148</td>\n",
              "      <td>146</td>\n",
              "      <td>145</td>\n",
              "      <td>147</td>\n",
              "      <td>133</td>\n",
              "      <td>63</td>\n",
              "      <td>66</td>\n",
              "      <td>88</td>\n",
              "      <td>113</td>\n",
              "      <td>182</td>\n",
              "      <td>...</td>\n",
              "      <td>231</td>\n",
              "      <td>250</td>\n",
              "      <td>241</td>\n",
              "      <td>158</td>\n",
              "      <td>125</td>\n",
              "      <td>126</td>\n",
              "      <td>124</td>\n",
              "      <td>125</td>\n",
              "      <td>126</td>\n",
              "      <td>124</td>\n",
              "    </tr>\n",
              "    <tr>\n",
              "      <th>16</th>\n",
              "      <td>149</td>\n",
              "      <td>143</td>\n",
              "      <td>144</td>\n",
              "      <td>151</td>\n",
              "      <td>132</td>\n",
              "      <td>64</td>\n",
              "      <td>84</td>\n",
              "      <td>112</td>\n",
              "      <td>163</td>\n",
              "      <td>223</td>\n",
              "      <td>...</td>\n",
              "      <td>208</td>\n",
              "      <td>250</td>\n",
              "      <td>227</td>\n",
              "      <td>163</td>\n",
              "      <td>145</td>\n",
              "      <td>143</td>\n",
              "      <td>140</td>\n",
              "      <td>136</td>\n",
              "      <td>121</td>\n",
              "      <td>114</td>\n",
              "    </tr>\n",
              "    <tr>\n",
              "      <th>17</th>\n",
              "      <td>147</td>\n",
              "      <td>134</td>\n",
              "      <td>140</td>\n",
              "      <td>148</td>\n",
              "      <td>135</td>\n",
              "      <td>100</td>\n",
              "      <td>108</td>\n",
              "      <td>144</td>\n",
              "      <td>210</td>\n",
              "      <td>248</td>\n",
              "      <td>...</td>\n",
              "      <td>179</td>\n",
              "      <td>231</td>\n",
              "      <td>223</td>\n",
              "      <td>162</td>\n",
              "      <td>146</td>\n",
              "      <td>140</td>\n",
              "      <td>139</td>\n",
              "      <td>145</td>\n",
              "      <td>142</td>\n",
              "      <td>128</td>\n",
              "    </tr>\n",
              "    <tr>\n",
              "      <th>18</th>\n",
              "      <td>152</td>\n",
              "      <td>117</td>\n",
              "      <td>114</td>\n",
              "      <td>123</td>\n",
              "      <td>126</td>\n",
              "      <td>122</td>\n",
              "      <td>93</td>\n",
              "      <td>179</td>\n",
              "      <td>238</td>\n",
              "      <td>248</td>\n",
              "      <td>...</td>\n",
              "      <td>212</td>\n",
              "      <td>236</td>\n",
              "      <td>236</td>\n",
              "      <td>166</td>\n",
              "      <td>136</td>\n",
              "      <td>134</td>\n",
              "      <td>130</td>\n",
              "      <td>127</td>\n",
              "      <td>137</td>\n",
              "      <td>151</td>\n",
              "    </tr>\n",
              "    <tr>\n",
              "      <th>19</th>\n",
              "      <td>145</td>\n",
              "      <td>127</td>\n",
              "      <td>128</td>\n",
              "      <td>133</td>\n",
              "      <td>132</td>\n",
              "      <td>135</td>\n",
              "      <td>171</td>\n",
              "      <td>237</td>\n",
              "      <td>252</td>\n",
              "      <td>229</td>\n",
              "      <td>...</td>\n",
              "      <td>240</td>\n",
              "      <td>240</td>\n",
              "      <td>222</td>\n",
              "      <td>156</td>\n",
              "      <td>119</td>\n",
              "      <td>120</td>\n",
              "      <td>112</td>\n",
              "      <td>100</td>\n",
              "      <td>99</td>\n",
              "      <td>140</td>\n",
              "    </tr>\n",
              "    <tr>\n",
              "      <th>20</th>\n",
              "      <td>143</td>\n",
              "      <td>127</td>\n",
              "      <td>129</td>\n",
              "      <td>129</td>\n",
              "      <td>130</td>\n",
              "      <td>140</td>\n",
              "      <td>219</td>\n",
              "      <td>244</td>\n",
              "      <td>210</td>\n",
              "      <td>193</td>\n",
              "      <td>...</td>\n",
              "      <td>202</td>\n",
              "      <td>190</td>\n",
              "      <td>198</td>\n",
              "      <td>152</td>\n",
              "      <td>100</td>\n",
              "      <td>109</td>\n",
              "      <td>119</td>\n",
              "      <td>121</td>\n",
              "      <td>108</td>\n",
              "      <td>136</td>\n",
              "    </tr>\n",
              "    <tr>\n",
              "      <th>21</th>\n",
              "      <td>143</td>\n",
              "      <td>125</td>\n",
              "      <td>131</td>\n",
              "      <td>128</td>\n",
              "      <td>123</td>\n",
              "      <td>153</td>\n",
              "      <td>148</td>\n",
              "      <td>166</td>\n",
              "      <td>188</td>\n",
              "      <td>182</td>\n",
              "      <td>...</td>\n",
              "      <td>148</td>\n",
              "      <td>141</td>\n",
              "      <td>141</td>\n",
              "      <td>138</td>\n",
              "      <td>111</td>\n",
              "      <td>111</td>\n",
              "      <td>121</td>\n",
              "      <td>129</td>\n",
              "      <td>138</td>\n",
              "      <td>179</td>\n",
              "    </tr>\n",
              "    <tr>\n",
              "      <th>22</th>\n",
              "      <td>141</td>\n",
              "      <td>131</td>\n",
              "      <td>139</td>\n",
              "      <td>139</td>\n",
              "      <td>138</td>\n",
              "      <td>151</td>\n",
              "      <td>128</td>\n",
              "      <td>136</td>\n",
              "      <td>175</td>\n",
              "      <td>173</td>\n",
              "      <td>...</td>\n",
              "      <td>145</td>\n",
              "      <td>143</td>\n",
              "      <td>129</td>\n",
              "      <td>123</td>\n",
              "      <td>124</td>\n",
              "      <td>113</td>\n",
              "      <td>108</td>\n",
              "      <td>113</td>\n",
              "      <td>148</td>\n",
              "      <td>199</td>\n",
              "    </tr>\n",
              "    <tr>\n",
              "      <th>23</th>\n",
              "      <td>143</td>\n",
              "      <td>139</td>\n",
              "      <td>138</td>\n",
              "      <td>149</td>\n",
              "      <td>160</td>\n",
              "      <td>150</td>\n",
              "      <td>147</td>\n",
              "      <td>151</td>\n",
              "      <td>169</td>\n",
              "      <td>167</td>\n",
              "      <td>...</td>\n",
              "      <td>107</td>\n",
              "      <td>91</td>\n",
              "      <td>84</td>\n",
              "      <td>105</td>\n",
              "      <td>132</td>\n",
              "      <td>118</td>\n",
              "      <td>96</td>\n",
              "      <td>102</td>\n",
              "      <td>159</td>\n",
              "      <td>190</td>\n",
              "    </tr>\n",
              "    <tr>\n",
              "      <th>24</th>\n",
              "      <td>149</td>\n",
              "      <td>133</td>\n",
              "      <td>136</td>\n",
              "      <td>147</td>\n",
              "      <td>150</td>\n",
              "      <td>153</td>\n",
              "      <td>157</td>\n",
              "      <td>162</td>\n",
              "      <td>175</td>\n",
              "      <td>190</td>\n",
              "      <td>...</td>\n",
              "      <td>77</td>\n",
              "      <td>79</td>\n",
              "      <td>93</td>\n",
              "      <td>126</td>\n",
              "      <td>133</td>\n",
              "      <td>119</td>\n",
              "      <td>113</td>\n",
              "      <td>140</td>\n",
              "      <td>187</td>\n",
              "      <td>154</td>\n",
              "    </tr>\n",
              "    <tr>\n",
              "      <th>25</th>\n",
              "      <td>172</td>\n",
              "      <td>144</td>\n",
              "      <td>135</td>\n",
              "      <td>136</td>\n",
              "      <td>135</td>\n",
              "      <td>139</td>\n",
              "      <td>153</td>\n",
              "      <td>163</td>\n",
              "      <td>166</td>\n",
              "      <td>184</td>\n",
              "      <td>...</td>\n",
              "      <td>135</td>\n",
              "      <td>143</td>\n",
              "      <td>139</td>\n",
              "      <td>136</td>\n",
              "      <td>127</td>\n",
              "      <td>121</td>\n",
              "      <td>135</td>\n",
              "      <td>189</td>\n",
              "      <td>211</td>\n",
              "      <td>136</td>\n",
              "    </tr>\n",
              "    <tr>\n",
              "      <th>26</th>\n",
              "      <td>202</td>\n",
              "      <td>187</td>\n",
              "      <td>151</td>\n",
              "      <td>128</td>\n",
              "      <td>122</td>\n",
              "      <td>134</td>\n",
              "      <td>142</td>\n",
              "      <td>150</td>\n",
              "      <td>153</td>\n",
              "      <td>148</td>\n",
              "      <td>...</td>\n",
              "      <td>161</td>\n",
              "      <td>154</td>\n",
              "      <td>154</td>\n",
              "      <td>143</td>\n",
              "      <td>130</td>\n",
              "      <td>132</td>\n",
              "      <td>171</td>\n",
              "      <td>215</td>\n",
              "      <td>186</td>\n",
              "      <td>117</td>\n",
              "    </tr>\n",
              "    <tr>\n",
              "      <th>27</th>\n",
              "      <td>216</td>\n",
              "      <td>193</td>\n",
              "      <td>168</td>\n",
              "      <td>151</td>\n",
              "      <td>131</td>\n",
              "      <td>126</td>\n",
              "      <td>138</td>\n",
              "      <td>144</td>\n",
              "      <td>142</td>\n",
              "      <td>137</td>\n",
              "      <td>...</td>\n",
              "      <td>147</td>\n",
              "      <td>148</td>\n",
              "      <td>149</td>\n",
              "      <td>149</td>\n",
              "      <td>137</td>\n",
              "      <td>143</td>\n",
              "      <td>203</td>\n",
              "      <td>206</td>\n",
              "      <td>124</td>\n",
              "      <td>71</td>\n",
              "    </tr>\n",
              "    <tr>\n",
              "      <th>28</th>\n",
              "      <td>220</td>\n",
              "      <td>201</td>\n",
              "      <td>186</td>\n",
              "      <td>172</td>\n",
              "      <td>156</td>\n",
              "      <td>142</td>\n",
              "      <td>142</td>\n",
              "      <td>153</td>\n",
              "      <td>150</td>\n",
              "      <td>139</td>\n",
              "      <td>...</td>\n",
              "      <td>126</td>\n",
              "      <td>141</td>\n",
              "      <td>145</td>\n",
              "      <td>147</td>\n",
              "      <td>127</td>\n",
              "      <td>114</td>\n",
              "      <td>186</td>\n",
              "      <td>173</td>\n",
              "      <td>56</td>\n",
              "      <td>33</td>\n",
              "    </tr>\n",
              "    <tr>\n",
              "      <th>29</th>\n",
              "      <td>208</td>\n",
              "      <td>201</td>\n",
              "      <td>198</td>\n",
              "      <td>191</td>\n",
              "      <td>183</td>\n",
              "      <td>171</td>\n",
              "      <td>159</td>\n",
              "      <td>147</td>\n",
              "      <td>135</td>\n",
              "      <td>130</td>\n",
              "      <td>...</td>\n",
              "      <td>120</td>\n",
              "      <td>128</td>\n",
              "      <td>142</td>\n",
              "      <td>135</td>\n",
              "      <td>90</td>\n",
              "      <td>50</td>\n",
              "      <td>137</td>\n",
              "      <td>160</td>\n",
              "      <td>56</td>\n",
              "      <td>53</td>\n",
              "    </tr>\n",
              "    <tr>\n",
              "      <th>30</th>\n",
              "      <td>180</td>\n",
              "      <td>173</td>\n",
              "      <td>186</td>\n",
              "      <td>194</td>\n",
              "      <td>198</td>\n",
              "      <td>201</td>\n",
              "      <td>189</td>\n",
              "      <td>173</td>\n",
              "      <td>156</td>\n",
              "      <td>139</td>\n",
              "      <td>...</td>\n",
              "      <td>117</td>\n",
              "      <td>112</td>\n",
              "      <td>122</td>\n",
              "      <td>104</td>\n",
              "      <td>58</td>\n",
              "      <td>34</td>\n",
              "      <td>131</td>\n",
              "      <td>184</td>\n",
              "      <td>97</td>\n",
              "      <td>83</td>\n",
              "    </tr>\n",
              "    <tr>\n",
              "      <th>31</th>\n",
              "      <td>177</td>\n",
              "      <td>168</td>\n",
              "      <td>179</td>\n",
              "      <td>188</td>\n",
              "      <td>202</td>\n",
              "      <td>218</td>\n",
              "      <td>218</td>\n",
              "      <td>207</td>\n",
              "      <td>191</td>\n",
              "      <td>175</td>\n",
              "      <td>...</td>\n",
              "      <td>112</td>\n",
              "      <td>119</td>\n",
              "      <td>130</td>\n",
              "      <td>120</td>\n",
              "      <td>92</td>\n",
              "      <td>103</td>\n",
              "      <td>170</td>\n",
              "      <td>216</td>\n",
              "      <td>151</td>\n",
              "      <td>123</td>\n",
              "    </tr>\n",
              "  </tbody>\n",
              "</table>\n",
              "<p>32 rows × 32 columns</p>\n",
              "</div>\n",
              "      <button class=\"colab-df-convert\" onclick=\"convertToInteractive('df-5e91d218-f6cf-4af1-999d-a37484457a07')\"\n",
              "              title=\"Convert this dataframe to an interactive table.\"\n",
              "              style=\"display:none;\">\n",
              "        \n",
              "  <svg xmlns=\"http://www.w3.org/2000/svg\" height=\"24px\"viewBox=\"0 0 24 24\"\n",
              "       width=\"24px\">\n",
              "    <path d=\"M0 0h24v24H0V0z\" fill=\"none\"/>\n",
              "    <path d=\"M18.56 5.44l.94 2.06.94-2.06 2.06-.94-2.06-.94-.94-2.06-.94 2.06-2.06.94zm-11 1L8.5 8.5l.94-2.06 2.06-.94-2.06-.94L8.5 2.5l-.94 2.06-2.06.94zm10 10l.94 2.06.94-2.06 2.06-.94-2.06-.94-.94-2.06-.94 2.06-2.06.94z\"/><path d=\"M17.41 7.96l-1.37-1.37c-.4-.4-.92-.59-1.43-.59-.52 0-1.04.2-1.43.59L10.3 9.45l-7.72 7.72c-.78.78-.78 2.05 0 2.83L4 21.41c.39.39.9.59 1.41.59.51 0 1.02-.2 1.41-.59l7.78-7.78 2.81-2.81c.8-.78.8-2.07 0-2.86zM5.41 20L4 18.59l7.72-7.72 1.47 1.35L5.41 20z\"/>\n",
              "  </svg>\n",
              "      </button>\n",
              "      \n",
              "  <style>\n",
              "    .colab-df-container {\n",
              "      display:flex;\n",
              "      flex-wrap:wrap;\n",
              "      gap: 12px;\n",
              "    }\n",
              "\n",
              "    .colab-df-convert {\n",
              "      background-color: #E8F0FE;\n",
              "      border: none;\n",
              "      border-radius: 50%;\n",
              "      cursor: pointer;\n",
              "      display: none;\n",
              "      fill: #1967D2;\n",
              "      height: 32px;\n",
              "      padding: 0 0 0 0;\n",
              "      width: 32px;\n",
              "    }\n",
              "\n",
              "    .colab-df-convert:hover {\n",
              "      background-color: #E2EBFA;\n",
              "      box-shadow: 0px 1px 2px rgba(60, 64, 67, 0.3), 0px 1px 3px 1px rgba(60, 64, 67, 0.15);\n",
              "      fill: #174EA6;\n",
              "    }\n",
              "\n",
              "    [theme=dark] .colab-df-convert {\n",
              "      background-color: #3B4455;\n",
              "      fill: #D2E3FC;\n",
              "    }\n",
              "\n",
              "    [theme=dark] .colab-df-convert:hover {\n",
              "      background-color: #434B5C;\n",
              "      box-shadow: 0px 1px 3px 1px rgba(0, 0, 0, 0.15);\n",
              "      filter: drop-shadow(0px 1px 2px rgba(0, 0, 0, 0.3));\n",
              "      fill: #FFFFFF;\n",
              "    }\n",
              "  </style>\n",
              "\n",
              "      <script>\n",
              "        const buttonEl =\n",
              "          document.querySelector('#df-5e91d218-f6cf-4af1-999d-a37484457a07 button.colab-df-convert');\n",
              "        buttonEl.style.display =\n",
              "          google.colab.kernel.accessAllowed ? 'block' : 'none';\n",
              "\n",
              "        async function convertToInteractive(key) {\n",
              "          const element = document.querySelector('#df-5e91d218-f6cf-4af1-999d-a37484457a07');\n",
              "          const dataTable =\n",
              "            await google.colab.kernel.invokeFunction('convertToInteractive',\n",
              "                                                     [key], {});\n",
              "          if (!dataTable) return;\n",
              "\n",
              "          const docLinkHtml = 'Like what you see? Visit the ' +\n",
              "            '<a target=\"_blank\" href=https://colab.research.google.com/notebooks/data_table.ipynb>data table notebook</a>'\n",
              "            + ' to learn more about interactive tables.';\n",
              "          element.innerHTML = '';\n",
              "          dataTable['output_type'] = 'display_data';\n",
              "          await google.colab.output.renderOutput(dataTable, element);\n",
              "          const docLink = document.createElement('div');\n",
              "          docLink.innerHTML = docLinkHtml;\n",
              "          element.appendChild(docLink);\n",
              "        }\n",
              "      </script>\n",
              "    </div>\n",
              "  </div>\n",
              "  "
            ]
          },
          "metadata": {},
          "execution_count": 5
        }
      ],
      "source": [
        "pd.DataFrame(x_train[0][:,:,0])"
      ]
    },
    {
      "cell_type": "markdown",
      "metadata": {
        "id": "vNNQH2Ps3GvT"
      },
      "source": [
        "We observe that the image has 3 channels (RGB) and the pixels have values from 0-255."
      ]
    },
    {
      "cell_type": "markdown",
      "metadata": {
        "id": "PteWmayP3M7B"
      },
      "source": [
        "Display some images"
      ]
    },
    {
      "cell_type": "code",
      "source": [
        "y_train.shape\n",
        "#y_train[i][0]"
      ],
      "metadata": {
        "colab": {
          "base_uri": "https://localhost:8080/"
        },
        "id": "p7Nkvknz9A8C",
        "outputId": "e1fe405e-ecab-4ec7-d7ad-ba926a74756a"
      },
      "execution_count": null,
      "outputs": [
        {
          "output_type": "execute_result",
          "data": {
            "text/plain": [
              "(50000, 1)"
            ]
          },
          "metadata": {},
          "execution_count": 6
        }
      ]
    },
    {
      "cell_type": "code",
      "source": [
        "class_names=['airplane','automobile','bird','cat','deer','dog','frog','horse','ship','truck']"
      ],
      "metadata": {
        "id": "1oRXR8nJ-64c"
      },
      "execution_count": null,
      "outputs": []
    },
    {
      "cell_type": "code",
      "execution_count": null,
      "metadata": {
        "colab": {
          "base_uri": "https://localhost:8080/",
          "height": 284
        },
        "id": "AmKJp6mv2v7s",
        "outputId": "6c64084c-0bc9-42f4-ee10-8038f65ae68f"
      },
      "outputs": [
        {
          "output_type": "display_data",
          "data": {
            "text/plain": [
              "<Figure size 432x288 with 15 Axes>"
            ],
            "image/png": "[encoded data removed]"
          },
          "metadata": {}
        }
      ],
      "source": [
        "# Create a plot figure\n",
        "fig = plt.figure()\n",
        "\n",
        "# Display the first 15 training images, along with their labels\n",
        "for i in range(15):\n",
        "    plt.subplot(5,3,i+1)\n",
        "    plt.tight_layout()\n",
        "    plt.imshow(x_train[i], cmap='gray', interpolation='none')\n",
        "    plt.title(class_names[y_train[i][0]])\n",
        "    plt.xticks([])\n",
        "    plt.yticks([])\n",
        "\n",
        "# Show the figure\n",
        "plt.show()"
      ]
    },
    {
      "cell_type": "code",
      "execution_count": null,
      "metadata": {
        "id": "MRg3nXFo3FP3"
      },
      "outputs": [],
      "source": []
    },
    {
      "cell_type": "markdown",
      "metadata": {
        "id": "vf-8FJ3F3UQd"
      },
      "source": [
        "# Data Preprocessing\n"
      ]
    },
    {
      "cell_type": "code",
      "source": [
        "# Reduce pixel values\n",
        "x_train, x_test = x_train / 255.0, x_test / 255.0\n",
        "\n",
        "# flatten the label values\n",
        "y_train, y_test = y_train.flatten(), y_test.flatten()\n"
      ],
      "metadata": {
        "id": "4glFrkAdrhiT"
      },
      "execution_count": null,
      "outputs": []
    },
    {
      "cell_type": "code",
      "source": [
        "x_train[0].shape"
      ],
      "metadata": {
        "colab": {
          "base_uri": "https://localhost:8080/"
        },
        "id": "vpwO7tzXL9_e",
        "outputId": "7cc3f27e-abf7-4899-a5d9-5d297f8f12d4"
      },
      "execution_count": null,
      "outputs": [
        {
          "output_type": "execute_result",
          "data": {
            "text/plain": [
              "(32, 32, 3)"
            ]
          },
          "metadata": {},
          "execution_count": 26
        }
      ]
    },
    {
      "cell_type": "markdown",
      "metadata": {
        "id": "-FA0eZGQ6wve"
      },
      "source": [
        "\n",
        "# Build and compile the model"
      ]
    },
    {
      "cell_type": "code",
      "source": [
        "# number of classes\n",
        "K = len(set(y_train))\n",
        "\n",
        "# calculate total number of classes\n",
        "# for output layer\n",
        "print(\"number of classes:\", K)\n",
        "\n",
        "# Build the model using the functional API\n",
        "# input layer\n",
        "input = Input(shape=(32,32,3))\n",
        "x = Conv2D(32, (3, 3), activation='relu', padding='same')(input)\n",
        "x = BatchNormalization()(x)\n",
        "x = Conv2D(32, (3, 3), activation='relu', padding='same')(x)\n",
        "x = BatchNormalization()(x)\n",
        "x = MaxPooling2D((2, 2))(x)\n",
        "\n",
        "x = Conv2D(64, (3, 3), activation='relu', padding='same')(x)\n",
        "x = BatchNormalization()(x)\n",
        "x = Conv2D(64, (3, 3), activation='relu', padding='same')(x)\n",
        "x = BatchNormalization()(x)\n",
        "x = MaxPooling2D((2, 2))(x)\n",
        "\n",
        "x = Conv2D(128, (3, 3), activation='relu', padding='same')(x)\n",
        "x = BatchNormalization()(x)\n",
        "x = Conv2D(128, (3, 3), activation='relu', padding='same')(x)\n",
        "x = BatchNormalization()(x)\n",
        "x = MaxPooling2D((2, 2))(x)\n",
        "\n",
        "x = Flatten()(x)\n",
        "x = Dropout(0.2)(x)\n",
        "\n",
        "# Hidden layer\n",
        "x = Dense(1024, activation='relu')(x)\n",
        "x = Dropout(0.2)(x)\n",
        "\n",
        "# last hidden layer i.e.. output layer\n",
        "output = Dense(K, activation='softmax')(x)\n",
        "\n",
        "model = Model(input, output)\n",
        "\n",
        "# model description\n",
        "model.summary()\n"
      ],
      "metadata": {
        "colab": {
          "base_uri": "https://localhost:8080/"
        },
        "id": "yC56eeb2r2_K",
        "outputId": "e2d46884-686d-4daf-9362-f39a6ac4c30a"
      },
      "execution_count": null,
      "outputs": [
        {
          "output_type": "stream",
          "name": "stdout",
          "text": [
            "number of classes: 10\n",
            "Model: \"model_9\"\n",
            "_________________________________________________________________\n",
            " Layer (type)                Output Shape              Param #   \n",
            "=================================================================\n",
            " input_13 (InputLayer)       [(None, 32, 32, 3)]       0         \n",
            "                                                                 \n",
            " conv2d_33 (Conv2D)          (None, 32, 32, 32)        896       \n",
            "                                                                 \n",
            " batch_normalization_32 (Bat  (None, 32, 32, 32)       128       \n",
            " chNormalization)                                                \n",
            "                                                                 \n",
            " conv2d_34 (Conv2D)          (None, 32, 32, 32)        9248      \n",
            "                                                                 \n",
            " batch_normalization_33 (Bat  (None, 32, 32, 32)       128       \n",
            " chNormalization)                                                \n",
            "                                                                 \n",
            " max_pooling2d_15 (MaxPoolin  (None, 16, 16, 32)       0         \n",
            " g2D)                                                            \n",
            "                                                                 \n",
            " conv2d_35 (Conv2D)          (None, 16, 16, 64)        18496     \n",
            "                                                                 \n",
            " batch_normalization_34 (Bat  (None, 16, 16, 64)       256       \n",
            " chNormalization)                                                \n",
            "                                                                 \n",
            " conv2d_36 (Conv2D)          (None, 16, 16, 64)        36928     \n",
            "                                                                 \n",
            " batch_normalization_35 (Bat  (None, 16, 16, 64)       256       \n",
            " chNormalization)                                                \n",
            "                                                                 \n",
            " max_pooling2d_16 (MaxPoolin  (None, 8, 8, 64)         0         \n",
            " g2D)                                                            \n",
            "                                                                 \n",
            " conv2d_37 (Conv2D)          (None, 8, 8, 128)         73856     \n",
            "                                                                 \n",
            " batch_normalization_36 (Bat  (None, 8, 8, 128)        512       \n",
            " chNormalization)                                                \n",
            "                                                                 \n",
            " conv2d_38 (Conv2D)          (None, 8, 8, 128)         147584    \n",
            "                                                                 \n",
            " batch_normalization_37 (Bat  (None, 8, 8, 128)        512       \n",
            " chNormalization)                                                \n",
            "                                                                 \n",
            " max_pooling2d_17 (MaxPoolin  (None, 4, 4, 128)        0         \n",
            " g2D)                                                            \n",
            "                                                                 \n",
            " flatten_5 (Flatten)         (None, 2048)              0         \n",
            "                                                                 \n",
            " dropout_10 (Dropout)        (None, 2048)              0         \n",
            "                                                                 \n",
            " dense_20 (Dense)            (None, 1024)              2098176   \n",
            "                                                                 \n",
            " dropout_11 (Dropout)        (None, 1024)              0         \n",
            "                                                                 \n",
            " dense_21 (Dense)            (None, 10)                10250     \n",
            "                                                                 \n",
            "=================================================================\n",
            "Total params: 2,397,226\n",
            "Trainable params: 2,396,330\n",
            "Non-trainable params: 896\n",
            "_________________________________________________________________\n"
          ]
        }
      ]
    },
    {
      "cell_type": "code",
      "source": [
        "# Compile\n",
        "model.compile(optimizer='adam',\n",
        "\t\t\tloss='sparse_categorical_crossentropy',\n",
        "\t\t\tmetrics=['accuracy'])\n"
      ],
      "metadata": {
        "id": "N6A_zKDUsArm"
      },
      "execution_count": null,
      "outputs": []
    },
    {
      "cell_type": "markdown",
      "metadata": {
        "id": "GY_c6ejxHsTL"
      },
      "source": [
        "# Train the model"
      ]
    },
    {
      "cell_type": "code",
      "source": [
        "# Fit\n",
        "history= model.fit(\n",
        "x_train, y_train, validation_data=(x_test, y_test), epochs=10)\n"
      ],
      "metadata": {
        "id": "r1YlMpHVsGsN",
        "colab": {
          "base_uri": "https://localhost:8080/"
        },
        "outputId": "e4f29575-6061-4dab-87f0-b0ca0be75a0a"
      },
      "execution_count": null,
      "outputs": [
        {
          "output_type": "stream",
          "name": "stdout",
          "text": [
            "Epoch 1/10\n",
            "1563/1563 [==============================] - 572s 365ms/step - loss: 1.1998 - accuracy: 0.5739 - val_loss: 1.0626 - val_accuracy: 0.6287\n",
            "Epoch 2/10\n",
            "1563/1563 [==============================] - 564s 361ms/step - loss: 0.8427 - accuracy: 0.7074 - val_loss: 0.8286 - val_accuracy: 0.7190\n",
            "Epoch 3/10\n",
            "1563/1563 [==============================] - 556s 355ms/step - loss: 0.6922 - accuracy: 0.7593 - val_loss: 0.7055 - val_accuracy: 0.7618\n",
            "Epoch 4/10\n",
            "1563/1563 [==============================] - 553s 354ms/step - loss: 0.5819 - accuracy: 0.7988 - val_loss: 0.6531 - val_accuracy: 0.7822\n",
            "Epoch 5/10\n",
            "1563/1563 [==============================] - 556s 356ms/step - loss: 0.4972 - accuracy: 0.8298 - val_loss: 0.6873 - val_accuracy: 0.7791\n",
            "Epoch 6/10\n",
            "1563/1563 [==============================] - 556s 356ms/step - loss: 0.4298 - accuracy: 0.8520 - val_loss: 0.6033 - val_accuracy: 0.8034\n",
            "Epoch 7/10\n",
            "1563/1563 [==============================] - 605s 387ms/step - loss: 0.3650 - accuracy: 0.8740 - val_loss: 0.5923 - val_accuracy: 0.8134\n",
            "Epoch 8/10\n",
            "1563/1563 [==============================] - 627s 401ms/step - loss: 0.3069 - accuracy: 0.8925 - val_loss: 0.6001 - val_accuracy: 0.8084\n",
            "Epoch 9/10\n",
            "1563/1563 [==============================] - 600s 384ms/step - loss: 0.2660 - accuracy: 0.9087 - val_loss: 0.6212 - val_accuracy: 0.8188\n",
            "Epoch 10/10\n",
            "1563/1563 [==============================] - 564s 361ms/step - loss: 0.2242 - accuracy: 0.9225 - val_loss: 0.8292 - val_accuracy: 0.7854\n"
          ]
        }
      ]
    },
    {
      "cell_type": "markdown",
      "metadata": {
        "id": "U-ZqSCPtH--V"
      },
      "source": [
        "# Evaluate model\n"
      ]
    },
    {
      "cell_type": "code",
      "execution_count": null,
      "metadata": {
        "id": "Zqs6XWtOICvu",
        "colab": {
          "base_uri": "https://localhost:8080/",
          "height": 334
        },
        "outputId": "c81d028a-1460-45ea-ce8a-c1325b73fc11"
      },
      "outputs": [
        {
          "output_type": "stream",
          "name": "stdout",
          "text": [
            "313/313 - 24s - loss: 0.8292 - accuracy: 0.7854 - 24s/epoch - 76ms/step\n",
            "Test loss: 0.8291875123977661\n",
            "Test accuracy: 0.7853999733924866\n"
          ]
        },
        {
          "output_type": "execute_result",
          "data": {
            "text/plain": [
              "<matplotlib.legend.Legend at 0x7f8430a946a0>"
            ]
          },
          "metadata": {},
          "execution_count": 86
        },
        {
          "output_type": "display_data",
          "data": {
            "text/plain": [
              "<Figure size 432x288 with 1 Axes>"
            ],
            "image/png": "[encoded data removed]"
          },
          "metadata": {
            "needs_background": "light"
          }
        }
      ],
      "source": [
        "test_scores = model.evaluate(x_test, y_test, verbose=2)\n",
        "print(\"Test loss:\", test_scores[0])\n",
        "print(\"Test accuracy:\", test_scores[1])\n",
        "# Plot accuracy per iteration\n",
        "plt.plot(history.history['accuracy'], label='acc', color='red')\n",
        "plt.plot(history.history['val_accuracy'], label='val_acc', color='green')\n",
        "plt.legend()"
      ]
    },
    {
      "cell_type": "code",
      "source": [
        "def predict(x,predictor):\n",
        "  activations=predictor.predict(x.reshape(1,32,32,3))\n",
        "  prediction=np.argmax(activations)\n",
        "\n",
        "  plt.bar(range(10),activations[0])\n",
        "  plt.show()\n",
        "  plt.imshow(x.reshape(32,32,3),cmap='Greys')\n",
        "  plt.show"
      ],
      "metadata": {
        "id": "pjYcB_i4eqLR"
      },
      "execution_count": null,
      "outputs": []
    },
    {
      "cell_type": "code",
      "source": [
        "#make a prediction\n",
        "predict(x_test[1],model)"
      ],
      "metadata": {
        "colab": {
          "base_uri": "https://localhost:8080/",
          "height": 531
        },
        "id": "-agsJt5hesqZ",
        "outputId": "253b2434-019a-4bf1-cb2c-ef2a9ed2400d"
      },
      "execution_count": null,
      "outputs": [
        {
          "output_type": "stream",
          "name": "stdout",
          "text": [
            "1/1 [==============================] - 0s 38ms/step\n"
          ]
        },
        {
          "output_type": "display_data",
          "data": {
            "text/plain": [
              "<Figure size 432x288 with 1 Axes>"
            ],
            "image/png": "[encoded data removed]"
          },
          "metadata": {
            "needs_background": "light"
          }
        },
        {
          "output_type": "display_data",
          "data": {
            "text/plain": [
              "<Figure size 432x288 with 1 Axes>"
            ],
            "image/png": "[encoded data removed]"
          },
          "metadata": {
            "needs_background": "light"
          }
        }
      ]
    },
    {
      "cell_type": "code",
      "source": [
        "\n",
        "# plot training history\n",
        "plt.plot(history.history['loss'], label='train')\n",
        "plt.plot(history.history['val_loss'], label='test')\n",
        "plt.legend()\n",
        "plt.show()"
      ],
      "metadata": {
        "id": "SKyFm2cC0pDk",
        "colab": {
          "base_uri": "https://localhost:8080/",
          "height": 265
        },
        "outputId": "2d86efd5-5461-4e85-f210-88897311338b"
      },
      "execution_count": null,
      "outputs": [
        {
          "output_type": "display_data",
          "data": {
            "text/plain": [
              "<Figure size 432x288 with 1 Axes>"
            ],
            "image/png": "[encoded data removed]"
          },
          "metadata": {
            "needs_background": "light"
          }
        }
      ]
    },
    {
      "cell_type": "code",
      "source": [
        "# Predict the class names (labels) in test data\n",
        "y_pred_probas = model.predict(x_test)\n",
        "y_pred = np.argmax(y_pred_probas, axis=-1)\n",
        "y_pred = tf.keras.utils.to_categorical(y_pred, num_classes=100, dtype=\"int32\")\n",
        "\n",
        "# Print evaluation report\n",
        "#print(classification_report(y_test, y_pred, target_names=class_names))"
      ],
      "metadata": {
        "id": "H8WDjJeD-PmC",
        "colab": {
          "base_uri": "https://localhost:8080/"
        },
        "outputId": "8f4d820e-e8c3-4bfa-d398-8946e4f16128"
      },
      "execution_count": null,
      "outputs": [
        {
          "output_type": "stream",
          "name": "stdout",
          "text": [
            "313/313 [==============================] - 27s 85ms/step\n"
          ]
        }
      ]
    },
    {
      "cell_type": "code",
      "source": [
        "(x_train, y_train), (x_test, y_test) = cifar10.load_data()"
      ],
      "metadata": {
        "id": "cl1DP9HJfaUh"
      },
      "execution_count": null,
      "outputs": []
    },
    {
      "cell_type": "markdown",
      "metadata": {
        "id": "tcQhoOUXIM_9"
      },
      "source": [
        "Now let's inspect some of the predictions of the test images and compare them to the ground truth."
      ]
    },
    {
      "cell_type": "code",
      "execution_count": null,
      "metadata": {
        "id": "fmTGogRQIQJA",
        "colab": {
          "base_uri": "https://localhost:8080/",
          "height": 284
        },
        "outputId": "fc0fa94f-8ef2-4206-f900-dd8e215b2eaa"
      },
      "outputs": [
        {
          "output_type": "display_data",
          "data": {
            "text/plain": [
              "<Figure size 432x288 with 9 Axes>"
            ],
            "image/png": "[encoded data removed]"
          },
          "metadata": {
            "needs_background": "light"
          }
        }
      ],
      "source": [
        "# Create a figure with the ground truth labels of the images (G) and the predicted labels from the model (P)\n",
        "offset = 0\n",
        "fig = plt.figure()\n",
        "for i in range(9):\n",
        "    plt.subplot(3,3,i+1)\n",
        "    plt.tight_layout()\n",
        "    plt.imshow(x_test[i+offset], cmap='gray', interpolation='none')\n",
        "    plt.title(f\"G: {class_names[np.argmax(y_test[i+offset])]} \\nP: {class_names[np.argmax(y_pred[i+offset])]}\")\n",
        "    plt.xticks([])\n",
        "\n",
        "plt.yticks([])\n",
        "plt.show()"
      ]
    },
    {
      "cell_type": "markdown",
      "metadata": {
        "id": "oaoUKzmNIXmk"
      },
      "source": [
        "we also inspect where our model made mistakes."
      ]
    },
    {
      "cell_type": "code",
      "execution_count": null,
      "metadata": {
        "id": "F8XEYZJpIY1N",
        "colab": {
          "base_uri": "https://localhost:8080/",
          "height": 284
        },
        "outputId": "0b49d431-c6aa-4af9-c7e3-0424b3cc2023"
      },
      "outputs": [
        {
          "output_type": "display_data",
          "data": {
            "text/plain": [
              "<Figure size 432x288 with 9 Axes>"
            ],
            "image/png": "[encoded data removed]"
          },
          "metadata": {
            "needs_background": "light"
          }
        }
      ],
      "source": [
        "# Find the ids that the model made a mistake\n",
        "mistake_ids = [i for i in range(len(y_test)) if np.argmax(y_test[i])!=np.argmax(y_pred[i])]\n",
        "\n",
        "# Create a figure for the first 9 mistakes\n",
        "fig = plt.figure()\n",
        "for m_i, m_idx in enumerate(mistake_ids[:9]):\n",
        "    plt.subplot(3,3,m_i+1)\n",
        "    plt.tight_layout()\n",
        "    plt.imshow(x_test[m_idx], cmap='gray', interpolation='none')\n",
        "    plt.title(f\"G: {class_names[np.argmax(y_test[m_idx])]} \\nP: {class_names[np.argmax(y_pred[m_idx])]}\")\n",
        "    plt.xticks([])\n",
        "\n",
        "plt.yticks([])\n",
        "plt.show()"
      ]
    },
    {
      "cell_type": "code",
      "source": [
        "# Predict the class names (labels) in test data\n",
        "y_pred_probas = model.predict(x_test)\n",
        "y_pred = np.argmax(y_pred_probas, axis=-1)\n",
        "\n",
        "\n",
        "# Print evaluation report\n",
        "print(classification_report(y_test, y_pred, target_names=class_names))"
      ],
      "metadata": {
        "colab": {
          "base_uri": "https://localhost:8080/"
        },
        "id": "QWL_5gtYs347",
        "outputId": "0c62c4c5-49a8-47d7-cd0e-c52abb4d6e11"
      },
      "execution_count": null,
      "outputs": [
        {
          "output_type": "stream",
          "name": "stdout",
          "text": [
            "313/313 [==============================] - 30s 95ms/step\n",
            "              precision    recall  f1-score   support\n",
            "\n",
            "    airplane       0.75      0.90      0.82      1000\n",
            "  automobile       0.86      0.93      0.89      1000\n",
            "        bird       0.78      0.68      0.72      1000\n",
            "         cat       0.58      0.62      0.60      1000\n",
            "        deer       0.89      0.63      0.74      1000\n",
            "         dog       0.60      0.82      0.69      1000\n",
            "        frog       0.91      0.74      0.81      1000\n",
            "       horse       0.83      0.86      0.84      1000\n",
            "        ship       0.93      0.81      0.87      1000\n",
            "       truck       0.89      0.86      0.87      1000\n",
            "\n",
            "    accuracy                           0.79     10000\n",
            "   macro avg       0.80      0.79      0.79     10000\n",
            "weighted avg       0.80      0.79      0.79     10000\n",
            "\n"
          ]
        }
      ]
    },
    {
      "cell_type": "markdown",
      "source": [
        "We observe that our best predicted object is ship"
      ],
      "metadata": {
        "id": "_KKOr-NpWIXk"
      }
    },
    {
      "cell_type": "markdown",
      "source": [
        "# Save and load our model from drive"
      ],
      "metadata": {
        "id": "CLf-7mTl7cwb"
      }
    },
    {
      "cell_type": "code",
      "source": [
        "from google.colab import drive\n",
        "drive.mount('/content/gdrive')"
      ],
      "metadata": {
        "colab": {
          "base_uri": "https://localhost:8080/"
        },
        "id": "SrzIxMWU7cO2",
        "outputId": "553c5277-6d2b-41d6-fd2a-75fe3e5d7f05"
      },
      "execution_count": null,
      "outputs": [
        {
          "output_type": "stream",
          "name": "stdout",
          "text": [
            "Drive already mounted at /content/gdrive; to attempt to forcibly remount, call drive.mount(\"/content/gdrive\", force_remount=True).\n"
          ]
        }
      ]
    },
    {
      "cell_type": "code",
      "source": [
        "PATH = F\"/content/gdrive/My Drive/{model}/{model}\"\n",
        "model.save('my_model')\n",
        "loaded= keras.models.load_model(\"my_model\")"
      ],
      "metadata": {
        "colab": {
          "base_uri": "https://localhost:8080/"
        },
        "id": "_07BTHW07o1t",
        "outputId": "586c2227-998c-455a-d475-76cc275ba337"
      },
      "execution_count": null,
      "outputs": [
        {
          "output_type": "stream",
          "name": "stderr",
          "text": [
            "WARNING:absl:Found untraced functions such as _jit_compiled_convolution_op, _jit_compiled_convolution_op, _jit_compiled_convolution_op, _jit_compiled_convolution_op, _jit_compiled_convolution_op while saving (showing 5 of 7). These functions will not be directly callable after loading.\n"
          ]
        }
      ]
    },
    {
      "cell_type": "markdown",
      "source": [
        "#  Construct an adversarial example\n",
        "\n",
        "\n"
      ],
      "metadata": {
        "id": "_uGB2xPmDMaG"
      }
    },
    {
      "cell_type": "code",
      "source": [
        "import tensorflow as tf\n",
        "model.trainable=False\n",
        "\n",
        "input=keras.Input(shape=(1,))\n",
        "hidden=layers.Dense(256, activation=\"relu\")(input)\n",
        "hidden=layers.Dense(32*32*3,activation=\"sigmoid\")(hidden)\n",
        "output=layers.Reshape((32,32,3))(hidden)\n",
        "\n",
        "adversarial_model=keras.Model(input,output)\n",
        "\n",
        "adversarial_model.compile(loss='categorical_crossentropy', optimizer=keras.optimizers.Adam(learning_rate=0.01), metrics=[tf.keras.metrics.RootMeanSquaredError()])\n",
        "\n",
        "composite=keras.Model(input,model(output))\n",
        "composite.compile(loss='categorical_crossentropy', optimizer=keras.optimizers.Adam(learning_rate=0.01), metrics=[\"accuracy\"])\n",
        "\n",
        "adversarial_model.summary()\n",
        "composite.summary()"
      ],
      "metadata": {
        "id": "7uMDjynW_thR",
        "colab": {
          "base_uri": "https://localhost:8080/"
        },
        "outputId": "bec651eb-1ba7-4ffd-d474-8552a694e118"
      },
      "execution_count": null,
      "outputs": [
        {
          "output_type": "stream",
          "name": "stdout",
          "text": [
            "Model: \"model_15\"\n",
            "_________________________________________________________________\n",
            " Layer (type)                Output Shape              Param #   \n",
            "=================================================================\n",
            " input_22 (InputLayer)       [(None, 1)]               0         \n",
            "                                                                 \n",
            " dense_38 (Dense)            (None, 256)               512       \n",
            "                                                                 \n",
            " dense_39 (Dense)            (None, 3072)              789504    \n",
            "                                                                 \n",
            " reshape_13 (Reshape)        (None, 32, 32, 3)         0         \n",
            "                                                                 \n",
            "=================================================================\n",
            "Total params: 790,016\n",
            "Trainable params: 790,016\n",
            "Non-trainable params: 0\n",
            "_________________________________________________________________\n",
            "Model: \"model_16\"\n",
            "_________________________________________________________________\n",
            " Layer (type)                Output Shape              Param #   \n",
            "=================================================================\n",
            " input_22 (InputLayer)       [(None, 1)]               0         \n",
            "                                                                 \n",
            " dense_38 (Dense)            (None, 256)               512       \n",
            "                                                                 \n",
            " dense_39 (Dense)            (None, 3072)              789504    \n",
            "                                                                 \n",
            " reshape_13 (Reshape)        (None, 32, 32, 3)         0         \n",
            "                                                                 \n",
            " model_9 (Functional)        (None, 10)                2397226   \n",
            "                                                                 \n",
            "=================================================================\n",
            "Total params: 3,187,242\n",
            "Trainable params: 790,016\n",
            "Non-trainable params: 2,397,226\n",
            "_________________________________________________________________\n"
          ]
        }
      ]
    },
    {
      "cell_type": "markdown",
      "source": [
        "We choose to create an adversarial example for an instance an image with a ship. We select x_test[1] for which our model predicted a ship with 100% certainty"
      ],
      "metadata": {
        "id": "2QjdEtCaYj3m"
      }
    },
    {
      "cell_type": "code",
      "source": [
        "from tqdm import tqdm\n",
        "\n",
        "for _ in tqdm(range(100)):\n",
        "\n",
        "\n",
        "  adversarial_model.train_on_batch([np.array([1])],np.array([x_test[1]]))\n",
        "  composite.train_on_batch([np.array([1])],np.array([[0,0,0,0,0,0,0,0,0,1]]))\n",
        ""
      ],
      "metadata": {
        "id": "dACzRfkEf1dJ",
        "colab": {
          "base_uri": "https://localhost:8080/"
        },
        "outputId": "0ca8ce5d-aa5c-43d3-cc7a-537d29473929"
      },
      "execution_count": null,
      "outputs": [
        {
          "output_type": "stream",
          "name": "stderr",
          "text": [
            "100%|██████████| 100/100 [00:07<00:00, 13.56it/s]\n"
          ]
        }
      ]
    },
    {
      "cell_type": "code",
      "source": [
        "advImage=adversarial_model.predict([np.array([1])]).reshape(1,32,32,3)\n",
        "plt.imshow(x_test[1])\n",
        "predict(advImage,model)\n",
        "predict(x_test[1],model)"
      ],
      "metadata": {
        "id": "KzWYGUNQf5Vh",
        "colab": {
          "base_uri": "https://localhost:8080/",
          "height": 816
        },
        "outputId": "612fbdd2-479d-4d36-994a-76e63d73e41a"
      },
      "execution_count": null,
      "outputs": [
        {
          "output_type": "stream",
          "name": "stdout",
          "text": [
            "1/1 [==============================] - 0s 38ms/step\n",
            "1/1 [==============================] - 0s 42ms/step\n"
          ]
        },
        {
          "output_type": "display_data",
          "data": {
            "text/plain": [
              "<Figure size 432x288 with 1 Axes>"
            ],
            "image/png": "[encoded data removed]"
          },
          "metadata": {
            "needs_background": "light"
          }
        },
        {
          "output_type": "stream",
          "name": "stdout",
          "text": [
            "1/1 [==============================] - 0s 49ms/step\n"
          ]
        },
        {
          "output_type": "display_data",
          "data": {
            "text/plain": [
              "<Figure size 432x288 with 1 Axes>"
            ],
            "image/png": "[encoded data removed]"
          },
          "metadata": {
            "needs_background": "light"
          }
        },
        {
          "output_type": "display_data",
          "data": {
            "text/plain": [
              "<Figure size 432x288 with 1 Axes>"
            ],
            "image/png": "[encoded data removed]"
          },
          "metadata": {
            "needs_background": "light"
          }
        }
      ]
    },
    {
      "cell_type": "code",
      "source": [],
      "metadata": {
        "id": "vd6gNLfKeEji"
      },
      "execution_count": null,
      "outputs": []
    }
  ],
  "metadata": {
    "colab": {
      "provenance": []
    },
    "kernelspec": {
      "display_name": "Python 3",
      "name": "python3"
    },
    "language_info": {
      "name": "python"
    }
  },
  "nbformat": 4,
  "nbformat_minor": 0
}